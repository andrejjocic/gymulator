{
 "cells": [
  {
   "cell_type": "code",
   "execution_count": 1,
   "metadata": {},
   "outputs": [],
   "source": [
    "import importlib\n",
    "import gym_model\n",
    "importlib.reload(gym_model)\n",
    "from visualisation import JupyterVizGym, GymDrawer"
   ]
  },
  {
   "cell_type": "code",
   "execution_count": 1,
   "metadata": {},
   "outputs": [
    {
     "data": {
      "application/vnd.jupyter.widget-view+json": {
       "model_id": "5de97699d51446c5b68e9a937add4341",
       "version_major": 2,
       "version_minor": 0
      },
      "text/html": [
       "Cannot show widget. You probably want to rerun the code cell above (<i>Click in the code cell, and press Shift+Enter <kbd>⇧</kbd>+<kbd>↩</kbd></i>)."
      ],
      "text/plain": [
       "Cannot show ipywidgets in text"
      ]
     },
     "metadata": {},
     "output_type": "display_data"
    },
    {
     "name": "stdout",
     "output_type": "stream",
     "text": [
      "[[None <Equipment.CALF_RAISE: 9> <Equipment.LEG_EXTENSION: 7> None\n",
      "  <Equipment.BICEPS_CURL: 14> None None None]\n",
      " [<Equipment.TRICEPS_DIP: 15> <Equipment.CHEST_FLY: 2> None\n",
      "  <Equipment.ROW: 16> None None None None]\n",
      " [<Equipment.LEG_EXTENSION: 7> None <Equipment.LAT_PULLDOWN: 5> None\n",
      "  <Equipment.HIP_THRUST: 18> None None <Equipment.LEG_PRESS: 6>]\n",
      " [None None None <Equipment.REAR_DELT_FLY: 12>\n",
      "  <Equipment.BICEPS_CURL: 14> <Equipment.REAR_DELT_FLY: 12> None None]\n",
      " [<Equipment.TRICEPS_PUSHDOWN: 4> <Equipment.LAT_PULLDOWN: 5>\n",
      "  <Equipment.SQUAT_RACK: 17> None None None <Equipment.LATERAL_RAISE: 11>\n",
      "  None]\n",
      " [None None <Equipment.TRICEPS_EXTENSION: 3> <Equipment.TRICEPS_DIP: 15>\n",
      "  <Equipment.SQUAT_RACK: 17> None <Equipment.LEG_CURL: 8>\n",
      "  <Equipment.BENCH_PRESS: 1>]\n",
      " [<Equipment.SHOULDER_PRESS: 10> None <Equipment.LATERAL_RAISE: 11> None\n",
      "  <Equipment.BENCH_PRESS: 1> <Equipment.SHRUG: 13> None\n",
      "  <Equipment.LEG_PRESS: 6>]\n",
      " [<Equipment.HIP_THRUST: 18> None <Equipment.SHOULDER_PRESS: 10> None\n",
      "  None None <Equipment.TRICEPS_EXTENSION: 3> <Equipment.SHRUG: 13>]\n",
      " [<Equipment.ROW: 16> None <Equipment.CALF_RAISE: 9>\n",
      "  <Equipment.CHEST_FLY: 2> None <Equipment.TRICEPS_PUSHDOWN: 4>\n",
      "  <Equipment.LEG_CURL: 8> None]]\n",
      "[[1 0 0 1 0 1 1 1]\n",
      " [0 2 1 0 1 1 1 1]\n",
      " [0 1 0 1 0 1 1 0]\n",
      " [1 1 1 0 0 0 1 1]\n",
      " [0 0 0 1 1 1 0 1]\n",
      " [1 1 -1 0 0 1 0 2]\n",
      " [0 1 0 1 2 0 1 0]\n",
      " [0 1 0 1 1 1 0 0]\n",
      " [0 1 0 2 1 0 0 1]]\n",
      "[(4, 3), (5, 1), (6, 1), (6, 3)] (5, 2) (5, 1)\n"
     ]
    }
   ],
   "source": [
    "\n",
    "model_params = {\n",
    "    \"num_trainees\": {\n",
    "        \"type\": \"SliderInt\",\n",
    "        \"value\": 1,\n",
    "        \"label\": \"Number of agents:\",\n",
    "        \"min\": 1,\n",
    "        \"max\": 50,\n",
    "        \"step\": 1,\n",
    "    },\n",
    "    \"machine_density\": {\n",
    "        \"type\": \"SliderFloat\",\n",
    "        \"value\": 0.5,\n",
    "        \"label\": \"Density of gym equipment:\",\n",
    "        \"min\": 0,\n",
    "        \"max\": 1,\n",
    "        \"step\": 0.05,\n",
    "    },\n",
    "}\n",
    "\n",
    "page = JupyterVizGym(\n",
    "    gym_model.Gym,\n",
    "    model_params,\n",
    "    measures=[],\n",
    "    name=\"Test gym\",\n",
    "    agent_portrayal=lambda agent: agent.portrayal,\n",
    "    # space_drawer=\"default\",\n",
    "    space_drawer=GymDrawer,\n",
    ")\n",
    "\n",
    "page"
   ]
  }
 ],
 "metadata": {
  "kernelspec": {
   "display_name": "Python 3",
   "language": "python",
   "name": "python3"
  },
  "language_info": {
   "codemirror_mode": {
    "name": "ipython",
    "version": 3
   },
   "file_extension": ".py",
   "mimetype": "text/x-python",
   "name": "python",
   "nbconvert_exporter": "python",
   "pygments_lexer": "ipython3",
   "version": "3.11.6"
  }
 },
 "nbformat": 4,
 "nbformat_minor": 2
}
