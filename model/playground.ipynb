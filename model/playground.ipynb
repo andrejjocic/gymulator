{
 "cells": [
  {
   "cell_type": "code",
   "execution_count": 1,
   "metadata": {},
   "outputs": [],
   "source": [
    "import importlib\n",
    "import gym_model\n",
    "importlib.reload(gym_model)\n",
    "from visualisation import JupyterVizGym, GymDrawer\n",
    "from optimization import LayoutTemplate"
   ]
  },
  {
   "cell_type": "code",
   "execution_count": 3,
   "metadata": {},
   "outputs": [
    {
     "name": "stderr",
     "output_type": "stream",
     "text": [
      "Component react.component(visualisation.JupyterVizGym) raised exception ValueError('Spawn location (1, 0) is occupied by TRICEPS_EXTENSION')\n",
      "Traceback (most recent call last):\n",
      "  File \"c:\\Users\\andre\\AppData\\Local\\Programs\\Python\\Python312\\Lib\\site-packages\\reacton\\core.py\", line 1675, in _render\n",
      "    root_element = el.component.f(*el.args, **el.kwargs)\n",
      "                   ^^^^^^^^^^^^^^^^^^^^^^^^^^^^^^^^^^^^^\n",
      "  File \"c:\\Users\\andre\\fax\\mag\\cb\\gymulator\\model\\visualisation.py\", line 46, in JupyterVizGym\n",
      "    model = solara.use_memo(\n",
      "            ^^^^^^^^^^^^^^^^\n",
      "  File \"c:\\Users\\andre\\AppData\\Local\\Programs\\Python\\Python312\\Lib\\site-packages\\reacton\\core.py\", line 851, in use_memo\n",
      "    return rc.use_memo(f, dependencies, debug_name)\n",
      "           ^^^^^^^^^^^^^^^^^^^^^^^^^^^^^^^^^^^^^^^^\n",
      "  File \"c:\\Users\\andre\\AppData\\Local\\Programs\\Python\\Python312\\Lib\\site-packages\\reacton\\core.py\", line 1216, in use_memo\n",
      "    value = f()\n",
      "            ^^^\n",
      "  File \"c:\\Users\\andre\\fax\\mag\\cb\\gymulator\\model\\visualisation.py\", line 41, in make_model\n",
      "    model = model_class(**model_parameters)\n",
      "            ^^^^^^^^^^^^^^^^^^^^^^^^^^^^^^^\n",
      "  File \"c:\\Users\\andre\\fax\\mag\\cb\\gymulator\\model\\gym_model.py\", line 104, in __init__\n",
      "    raise ValueError(f\"Spawn location {spawn_location} is occupied by {self.equipment_layer[spawn_location].name}\")\n",
      "ValueError: Spawn location (1, 0) is occupied by TRICEPS_EXTENSION\n"
     ]
    },
    {
     "data": {
      "application/vnd.jupyter.widget-view+json": {
       "model_id": "3ad5aa3e97f44ce79ec93ce0bfbb6cd5",
       "version_major": 2,
       "version_minor": 0
      },
      "text/html": [
       "Cannot show widget. You probably want to rerun the code cell above (<i>Click in the code cell, and press Shift+Enter <kbd>⇧</kbd>+<kbd>↩</kbd></i>)."
      ],
      "text/plain": [
       "Cannot show ipywidgets in text"
      ]
     },
     "metadata": {},
     "output_type": "display_data"
    }
   ],
   "source": [
    "template = LayoutTemplate.circular(height=3, width=4)\n",
    "import random\n",
    "\n",
    "model_params = {\n",
    "    \"interarrival_time\": {\n",
    "        \"type\": \"SliderInt\",\n",
    "        \"value\": 10,\n",
    "        \"label\": \"time between arrivals:\",\n",
    "        \"min\": 1,\n",
    "        \"max\": 50,\n",
    "        \"step\": 1,\n",
    "    },\n",
    "    # \"machine_density\": {\n",
    "    #     \"type\": \"SliderFloat\",\n",
    "    #     \"value\": 0.25,\n",
    "    #     \"label\": \"Density of gym equipment:\",\n",
    "    #     \"min\": 0.05,\n",
    "    #     \"max\": 1,\n",
    "    #     \"step\": 0.05,\n",
    "    # },\n",
    "    \"layout\": template.instantiate([random.choice(list(gym_model.Equipment)) for _ in range(len(template))]),\n",
    "    \"spawn_location\": template.entrance,\n",
    "}\n",
    "\n",
    "page = JupyterVizGym(\n",
    "    gym_model.Gym,\n",
    "    model_params,\n",
    "    measures=[\"Searching\"],\n",
    "    name=\"Test gym\",\n",
    "    agent_portrayal=lambda agent: agent.portrayal,\n",
    "    # space_drawer=\"default\",\n",
    "    space_drawer=GymDrawer,\n",
    ")\n",
    "\n",
    "page"
   ]
  }
 ],
 "metadata": {
  "kernelspec": {
   "display_name": "Python 3",
   "language": "python",
   "name": "python3"
  },
  "language_info": {
   "codemirror_mode": {
    "name": "ipython",
    "version": 3
   },
   "file_extension": ".py",
   "mimetype": "text/x-python",
   "name": "python",
   "nbconvert_exporter": "python",
   "pygments_lexer": "ipython3",
   "version": "3.12.0"
  }
 },
 "nbformat": 4,
 "nbformat_minor": 2
}
