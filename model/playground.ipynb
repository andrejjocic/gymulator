{
 "cells": [
  {
   "cell_type": "code",
   "execution_count": 1,
   "metadata": {},
   "outputs": [],
   "source": [
    "import importlib\n",
    "import gym_model\n",
    "importlib.reload(gym_model)\n",
    "from visualisation import JupyterVizGym, GymDrawer, draw_layout\n",
    "from optimization import LayoutTemplate\n",
    "import random\n",
    "import numpy as np          \n",
    "import matplotlib.pyplot as plt"
   ]
  },
  {
   "cell_type": "code",
   "execution_count": 10,
   "metadata": {},
   "outputs": [
    {
     "data": {
      "application/vnd.jupyter.widget-view+json": {
       "model_id": "6582c285287c44a4b387e66e27865c13",
       "version_major": 2,
       "version_minor": 0
      },
      "text/html": [
       "Cannot show widget. You probably want to rerun the code cell above (<i>Click in the code cell, and press Shift+Enter <kbd>⇧</kbd>+<kbd>↩</kbd></i>)."
      ],
      "text/plain": [
       "Cannot show ipywidgets in text"
      ]
     },
     "metadata": {},
     "output_type": "display_data"
    }
   ],
   "source": [
    "model_params = {\n",
    "    \"interarrival_time\": {\n",
    "        \"type\": \"SliderInt\",\n",
    "        \"value\": 5,\n",
    "        \"label\": \"time between arrivals:\",\n",
    "        \"min\": 1,\n",
    "        \"max\": 50,\n",
    "        \"step\": 1,\n",
    "    },\n",
    "    \"agent_exercise_duration\": {\n",
    "        \"type\": \"SliderInt\",\n",
    "        \"value\": 30,\n",
    "        \"label\": \"mean exercise duration:\",\n",
    "        \"min\": 1,\n",
    "        \"max\": 3 * 60,\n",
    "        \"step\": 1,\n",
    "    },\n",
    "}\n",
    "\n",
    "RANDOM_LAYOUT = False\n",
    "\n",
    "if RANDOM_LAYOUT:\n",
    "    model_params[\"machine_density\"] ={\n",
    "        \"type\": \"SliderFloat\",\n",
    "        \"value\": 0.25,\n",
    "        \"label\": \"Density of gym equipment:\",\n",
    "        \"min\": 0.05,\n",
    "        \"max\": 1,\n",
    "        \"step\": 0.05,\n",
    "    }\n",
    "else:\n",
    "    template = LayoutTemplate.square_isles(isle_rows=2, isle_cols=3)\n",
    "    model_params[\"layout\"] = template.instantiate([random.choice(list(gym_model.Equipment)) for _ in range(len(template))])\n",
    "    model_params[\"spawn_location\"] = template.entrance\n",
    "\n",
    "\n",
    "page = JupyterVizGym(\n",
    "    gym_model.Gym,\n",
    "    model_params,\n",
    "    measures=[\"Utilization\"],\n",
    "    name=\"Test gym\",\n",
    "    agent_portrayal=lambda agent: agent.portrayal,\n",
    "    # space_drawer=\"default\",\n",
    "    space_drawer=GymDrawer,\n",
    ")\n",
    "\n",
    "page"
   ]
  },
  {
   "cell_type": "code",
   "execution_count": 11,
   "metadata": {},
   "outputs": [],
   "source": [
    "eff = np.load(\"layouts\\\\best_1x2_gym_efficiency.npy\", allow_pickle=True)\n",
    "fig, ax = plt.subplots(figsize=(10,10))\n",
    "draw_layout(eff, ax)\n",
    "plt.show()"
   ]
  },
  {
   "cell_type": "code",
   "execution_count": 2,
   "metadata": {},
   "outputs": [
    {
     "name": "stderr",
     "output_type": "stream",
     "text": [
      "----------------------------------------------------------------------\n",
      "                           PyGAD Lifecycle                           \n",
      "======================================================================\n",
      "Step                  Handler                              Output Shape\n",
      "======================================================================\n",
      "Fitness Function      gym_quality()                        (1)      \n",
      "----------------------------------------------------------------------\n",
      "Parent Selection      nsga2_selection()                    (5, 47)  \n",
      "Number of Parents: 5\n",
      "----------------------------------------------------------------------\n",
      "Crossover             two_points_crossover()               (5, 47)  \n",
      "----------------------------------------------------------------------\n",
      "Mutation              random_mutation()                    (5, 47)  \n",
      "Mutation Genes: 4\n",
      "Random Mutation Range: (0, 17)\n",
      "Gene Space: range(0, 18)\n",
      "Mutation by Replacement: True\n",
      "Allow Duplicated Genes: True\n",
      "----------------------------------------------------------------------\n",
      "On Generation         print_evolution_progress()           None     \n",
      "----------------------------------------------------------------------\n",
      "======================================================================\n",
      "Population Size: (10, 47)\n",
      "Number of Generations: 20\n",
      "Initial Population Range: (0, 17)\n",
      "Keep Parents: -1\n",
      "Gene DType: [<class 'int'>, None]\n",
      "Save Best Solutions: False\n",
      "Save Solutions: False\n",
      "======================================================================\n",
      "c:\\Users\\andre\\AppData\\Local\\Programs\\Python\\Python312\\Lib\\site-packages\\pygad\\utils\\nsga2.py:198: RuntimeWarning: invalid value encountered in scalar subtract\n",
      "  crowding_dist = obj_sorted[idx+1][1] - obj_sorted[idx-1][1]\n",
      "c:\\Users\\andre\\AppData\\Local\\Programs\\Python\\Python312\\Lib\\site-packages\\pygad\\utils\\nsga2.py:198: RuntimeWarning: invalid value encountered in scalar subtract\n",
      "  crowding_dist = obj_sorted[idx+1][1] - obj_sorted[idx-1][1]\n"
     ]
    },
    {
     "name": "stdout",
     "output_type": "stream",
     "text": [
      "INFO: discarded 12/10 solutions\n",
      "Finished generation 1/20, (lexi)max fitness=[0.1506383  0.47201839 0.51844733]\n",
      "INFO: discarded 3/10 solutions\n",
      "Finished generation 2/20, (lexi)max fitness=[0.12680851 0.56233014 0.40366234]\n",
      "INFO: discarded 4/10 solutions\n",
      "Finished generation 3/20, (lexi)max fitness=[0.10297872 0.5900828  0.39651082]\n",
      "INFO: discarded 3/10 solutions\n",
      "Finished generation 4/20, (lexi)max fitness=[0.10297872 0.5900828  0.39651082]\n",
      "INFO: discarded 1/10 solutions\n",
      "Finished generation 5/20, (lexi)max fitness=[0.10297872 0.5900828  0.39651082]\n",
      "INFO: discarded 2/10 solutions\n",
      "Finished generation 6/20, (lexi)max fitness=[0.12765957 0.60912955 0.44822511]\n",
      "INFO: discarded 2/10 solutions\n",
      "Finished generation 7/20, (lexi)max fitness=[0.12765957 0.60912955 0.44822511]\n",
      "INFO: discarded 2/10 solutions\n",
      "Finished generation 8/20, (lexi)max fitness=[0.13702128 0.63387444 0.4355873 ]\n",
      "INFO: discarded 4/10 solutions\n",
      "Finished generation 9/20, (lexi)max fitness=[0.13702128 0.63387444 0.4355873 ]\n",
      "INFO: discarded 0/10 solutions\n",
      "Finished generation 10/20, (lexi)max fitness=[0.13702128 0.63387444 0.4355873 ]\n",
      "INFO: discarded 2/10 solutions\n",
      "Finished generation 11/20, (lexi)max fitness=[0.13702128 0.63387444 0.4355873 ]\n",
      "INFO: discarded 1/10 solutions\n",
      "Finished generation 12/20, (lexi)max fitness=[0.13702128 0.63387444 0.4355873 ]\n",
      "INFO: discarded 2/10 solutions\n",
      "Finished generation 13/20, (lexi)max fitness=[0.13702128 0.63387444 0.4355873 ]\n",
      "INFO: discarded 1/10 solutions\n",
      "Finished generation 14/20, (lexi)max fitness=[0.13702128 0.63387444 0.4355873 ]\n",
      "INFO: discarded 1/10 solutions\n",
      "Finished generation 15/20, (lexi)max fitness=[0.13702128 0.63387444 0.4355873 ]\n",
      "INFO: discarded 3/10 solutions\n",
      "Finished generation 16/20, (lexi)max fitness=[0.12       0.6432903  0.46339683]\n",
      "INFO: discarded 1/10 solutions\n",
      "Finished generation 17/20, (lexi)max fitness=[0.12       0.6432903  0.46339683]\n",
      "INFO: discarded 3/10 solutions\n",
      "Finished generation 18/20, (lexi)max fitness=[0.12       0.6432903  0.46339683]\n",
      "INFO: discarded 1/10 solutions\n",
      "Finished generation 19/20, (lexi)max fitness=[0.12       0.6432903  0.46339683]\n",
      "INFO: discarded 2/10 solutions\n",
      "Finished generation 20/20, (lexi)max fitness=[0.12       0.6432903  0.46339683]\n",
      "Best fitness value reached after 16 generations.\n",
      "returning solution 1\n"
     ]
    }
   ],
   "source": [
    "from optimization import optimal_gym, GymMetric, LayoutTemplate\n",
    "\n",
    "template = LayoutTemplate.square_isles(isle_rows=2, isle_cols=2)\n",
    "layout, fitness, ga_instance = optimal_gym(\n",
    "    layout_template=template,\n",
    "    fitness_metrics=[GymMetric.UTILIZATION, GymMetric.EFFICIENCY, GymMetric.CONGESTION],\n",
    "    n_generations=20, population_size=10,\n",
    "    crossover_method=\"two_points\", tournament_participants=None,\n",
    "    mutation_percents=10,\n",
    "    plot_fitness=False,\n",
    "    simulation_cycle_steps=25, interarrival_time=1, agent_exercise_duration=5,\n",
    ")"
   ]
  },
  {
   "cell_type": "code",
   "execution_count": 3,
   "metadata": {},
   "outputs": [
    {
     "name": "stdout",
     "output_type": "stream",
     "text": [
      "[[0.1506383  0.47201839 0.51844733]\n",
      " [0.12       0.6432903  0.46339683]\n",
      " [0.10468085 0.47112276 0.63611411]\n",
      " [0.12340426 0.6418192  0.37301587]\n",
      " [0.14638298 0.60415306 0.40148341]\n",
      " [      -inf       -inf       -inf]\n",
      " [0.0987234  0.63449692 0.42537662]\n",
      " [0.10382979 0.55911493 0.49266378]\n",
      " [      -inf       -inf       -inf]\n",
      " [0.13787234 0.61221092 0.41832035]]\n"
     ]
    },
    {
     "data": {
      "text/plain": [
       "(array([1], dtype=int64), array([1], dtype=int64))"
      ]
     },
     "execution_count": 3,
     "metadata": {},
     "output_type": "execute_result"
    }
   ],
   "source": [
    "fit = ga_instance.last_generation_fitness\n",
    "print(fit)\n",
    "np.where(fit == np.max(fit))"
   ]
  },
  {
   "cell_type": "code",
   "execution_count": 4,
   "metadata": {},
   "outputs": [
    {
     "data": {
      "text/plain": [
       "(array([12, 17, 16, 15, 15,  1, 16, 17,  8,  4,  2,  6, 15,  5,  0, 14,  6,\n",
       "         8, 13, 12, 10, 11, 15, 13,  3, 16,  9,  5, 12, 16, 12,  7,  8,  8,\n",
       "        13,  0,  4,  3,  1,  4,  5, 16,  7,  6,  6, 12,  9]),\n",
       " array([0.12      , 0.6432903 , 0.46339683]),\n",
       " 1)"
      ]
     },
     "execution_count": 4,
     "metadata": {},
     "output_type": "execute_result"
    }
   ],
   "source": [
    "ga_instance.best_solution()"
   ]
  },
  {
   "cell_type": "code",
   "execution_count": 11,
   "metadata": {},
   "outputs": [
    {
     "name": "stderr",
     "output_type": "stream",
     "text": [
      "Simulating gym: 100%|██████████| 1000/1000 [00:00<00:00, 1443.09it/s, 15 agents]\n"
     ]
    },
    {
     "data": {
      "text/html": [
       "<div>\n",
       "<style scoped>\n",
       "    .dataframe tbody tr th:only-of-type {\n",
       "        vertical-align: middle;\n",
       "    }\n",
       "\n",
       "    .dataframe tbody tr th {\n",
       "        vertical-align: top;\n",
       "    }\n",
       "\n",
       "    .dataframe thead th {\n",
       "        text-align: right;\n",
       "    }\n",
       "</style>\n",
       "<table border=\"1\" class=\"dataframe\">\n",
       "  <thead>\n",
       "    <tr style=\"text-align: right;\">\n",
       "      <th></th>\n",
       "      <th></th>\n",
       "      <th>State</th>\n",
       "    </tr>\n",
       "    <tr>\n",
       "      <th>Step</th>\n",
       "      <th>AgentID</th>\n",
       "      <th></th>\n",
       "    </tr>\n",
       "  </thead>\n",
       "  <tbody>\n",
       "    <tr>\n",
       "      <th>0</th>\n",
       "      <th>0</th>\n",
       "      <td>SEARCHING</td>\n",
       "    </tr>\n",
       "    <tr>\n",
       "      <th>1</th>\n",
       "      <th>0</th>\n",
       "      <td>WORKING_OUT</td>\n",
       "    </tr>\n",
       "    <tr>\n",
       "      <th>2</th>\n",
       "      <th>0</th>\n",
       "      <td>WORKING_OUT</td>\n",
       "    </tr>\n",
       "    <tr>\n",
       "      <th>3</th>\n",
       "      <th>0</th>\n",
       "      <td>WORKING_OUT</td>\n",
       "    </tr>\n",
       "    <tr>\n",
       "      <th>4</th>\n",
       "      <th>0</th>\n",
       "      <td>WORKING_OUT</td>\n",
       "    </tr>\n",
       "    <tr>\n",
       "      <th>...</th>\n",
       "      <th>...</th>\n",
       "      <td>...</td>\n",
       "    </tr>\n",
       "    <tr>\n",
       "      <th rowspan=\"5\" valign=\"top\">999</th>\n",
       "      <th>96</th>\n",
       "      <td>WORKING_OUT</td>\n",
       "    </tr>\n",
       "    <tr>\n",
       "      <th>97</th>\n",
       "      <td>WORKING_OUT</td>\n",
       "    </tr>\n",
       "    <tr>\n",
       "      <th>98</th>\n",
       "      <td>WORKING_OUT</td>\n",
       "    </tr>\n",
       "    <tr>\n",
       "      <th>99</th>\n",
       "      <td>WORKING_OUT</td>\n",
       "    </tr>\n",
       "    <tr>\n",
       "      <th>100</th>\n",
       "      <td>SEARCHING</td>\n",
       "    </tr>\n",
       "  </tbody>\n",
       "</table>\n",
       "<p>13335 rows × 1 columns</p>\n",
       "</div>"
      ],
      "text/plain": [
       "                    State\n",
       "Step AgentID             \n",
       "0    0          SEARCHING\n",
       "1    0        WORKING_OUT\n",
       "2    0        WORKING_OUT\n",
       "3    0        WORKING_OUT\n",
       "4    0        WORKING_OUT\n",
       "...                   ...\n",
       "999  96       WORKING_OUT\n",
       "     97       WORKING_OUT\n",
       "     98       WORKING_OUT\n",
       "     99       WORKING_OUT\n",
       "     100        SEARCHING\n",
       "\n",
       "[13335 rows x 1 columns]"
      ]
     },
     "execution_count": 11,
     "metadata": {},
     "output_type": "execute_result"
    }
   ],
   "source": [
    "gym = gym_model.Gym(interarrival_time=10, agent_exercise_duration=30)\n",
    "\n",
    "model_df, agent_df = gym.run(1000, progress_bar=True)\n",
    "agent_df"
   ]
  }
 ],
 "metadata": {
  "kernelspec": {
   "display_name": "Python 3",
   "language": "python",
   "name": "python3"
  },
  "language_info": {
   "codemirror_mode": {
    "name": "ipython",
    "version": 3
   },
   "file_extension": ".py",
   "mimetype": "text/x-python",
   "name": "python",
   "nbconvert_exporter": "python",
   "pygments_lexer": "ipython3",
   "version": "3.12.0"
  }
 },
 "nbformat": 4,
 "nbformat_minor": 2
}
