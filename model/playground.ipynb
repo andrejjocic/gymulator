{
 "cells": [
  {
   "cell_type": "code",
   "execution_count": 2,
   "metadata": {},
   "outputs": [],
   "source": [
    "import importlib\n",
    "import gym_model\n",
    "importlib.reload(gym_model)\n",
    "from visualisation import JupyterVizGym, GymDrawer\n",
    "from optimization import LayoutTemplate\n",
    "import random"
   ]
  },
  {
   "cell_type": "code",
   "execution_count": 2,
   "metadata": {},
   "outputs": [
    {
     "data": {
      "image/png": "[encoded data removed]",
      "text/plain": [
       "<Figure size 640x480 with 1 Axes>"
      ]
     },
     "metadata": {},
     "output_type": "display_data"
    }
   ],
   "source": [
    "%matplotlib inline\n",
    "import numpy as np\n",
    "import matplotlib.pyplot as plt\n",
    "from gym_agent import Muscle\n",
    "from visualisation import draw_layout\n",
    "\n",
    "tpl = LayoutTemplate.square_isles(isle_rows=2, isle_cols=2)\n",
    "layout = tpl.instantiate([random.choice(list(gym_model.Equipment)) for _ in range(len(tpl))])\n",
    "# print(list(zip(*np.where(layout != None))))\n",
    "draw_layout(layout, show=True, cmap_name=\"inferno\")"
   ]
  },
  {
   "cell_type": "code",
   "execution_count": 35,
   "metadata": {},
   "outputs": [
    {
     "data": {
      "image/png": "[encoded data removed]",
      "text/plain": [
       "<Figure size 800x100 with 1 Axes>"
      ]
     },
     "metadata": {},
     "output_type": "display_data"
    }
   ],
   "source": [
    "# Get the colormap\n",
    "cmap = plt.get_cmap('inferno')\n",
    "\n",
    "# Get the number of segments\n",
    "num_segments = len(gym_model.Equipment)\n",
    "\n",
    "# Create a list of values from 0 to 1\n",
    "values = np.linspace(0, 1, num_segments)\n",
    "\n",
    "# Plot the spectrum\n",
    "plt.figure(figsize=(8, 1))\n",
    "plt.imshow([values], cmap=cmap, aspect='auto')\n",
    "plt.xticks([])\n",
    "plt.yticks([])\n",
    "\n",
    "# Add text \"arms\" on the left\n",
    "plt.text(1, 0, \"arms\", ha='right', va='center', fontsize=12, color='white')\n",
    "\n",
    "# Add text \"legs\" on the right\n",
    "plt.text(15, 0, \"legs\", ha='left', va='center', fontsize=12, color='black')\n",
    "\n",
    "plt.show()\n"
   ]
  },
  {
   "cell_type": "code",
   "execution_count": 29,
   "metadata": {},
   "outputs": [
    {
     "data": {
      "application/vnd.jupyter.widget-view+json": {
       "model_id": "4111fb31a80d4b2c802d3710d64939ae",
       "version_major": 2,
       "version_minor": 0
      },
      "text/html": [
       "Cannot show widget. You probably want to rerun the code cell above (<i>Click in the code cell, and press Shift+Enter <kbd>⇧</kbd>+<kbd>↩</kbd></i>)."
      ],
      "text/plain": [
       "Cannot show ipywidgets in text"
      ]
     },
     "metadata": {},
     "output_type": "display_data"
    }
   ],
   "source": [
    "model_params = {\n",
    "    \"interarrival_time\": {\n",
    "        \"type\": \"SliderInt\",\n",
    "        \"value\": 2,\n",
    "        \"label\": \"time between arrivals:\",\n",
    "        \"min\": 1,\n",
    "        \"max\": 50,\n",
    "        \"step\": 1,\n",
    "    },\n",
    "    \"agent_exercise_duration\": {\n",
    "        \"type\": \"SliderInt\",\n",
    "        \"value\": 20,\n",
    "        \"label\": \"mean exercise duration:\",\n",
    "        \"min\": 1,\n",
    "        \"max\": 3 * 60,\n",
    "        \"step\": 1,\n",
    "    },\n",
    "}\n",
    "\n",
    "RANDOM_LAYOUT = False\n",
    "\n",
    "if RANDOM_LAYOUT:\n",
    "    model_params[\"machine_density\"] ={\n",
    "        \"type\": \"SliderFloat\",\n",
    "        \"value\": 0.25,\n",
    "        \"label\": \"Density of gym equipment:\",\n",
    "        \"min\": 0.05,\n",
    "        \"max\": 1,\n",
    "        \"step\": 0.05,\n",
    "    }\n",
    "else:\n",
    "    template = LayoutTemplate.square_isles(isle_rows=2, isle_cols=2)\n",
    "    model_params[\"layout\"] = template.instantiate([random.choice(list(gym_model.Equipment)) for _ in range(len(template))])\n",
    "    model_params[\"spawn_location\"] = template.entrance\n",
    "\n",
    "\n",
    "page = JupyterVizGym(\n",
    "    gym_model.Gym,\n",
    "    model_params,\n",
    "    measures=[\"Congestion\", \"Utilization\"],\n",
    "    name=\"Test gym\",\n",
    "    agent_portrayal=lambda agent: agent.portrayal,\n",
    "    # space_drawer=\"default\",\n",
    "    space_drawer=GymDrawer,\n",
    ")\n",
    "\n",
    "page"
   ]
  },
  {
   "cell_type": "code",
   "execution_count": 36,
   "metadata": {},
   "outputs": [
    {
     "name": "stderr",
     "output_type": "stream",
     "text": [
      "Simulating gym: 100%|██████████| 20/20 [00:00<00:00, 647.96it/s, 11 agents]\n"
     ]
    },
    {
     "data": {
      "text/html": [
       "<div>\n",
       "<style scoped>\n",
       "    .dataframe tbody tr th:only-of-type {\n",
       "        vertical-align: middle;\n",
       "    }\n",
       "\n",
       "    .dataframe tbody tr th {\n",
       "        vertical-align: top;\n",
       "    }\n",
       "\n",
       "    .dataframe thead th {\n",
       "        text-align: right;\n",
       "    }\n",
       "</style>\n",
       "<table border=\"1\" class=\"dataframe\">\n",
       "  <thead>\n",
       "    <tr style=\"text-align: right;\">\n",
       "      <th></th>\n",
       "      <th></th>\n",
       "      <th>State</th>\n",
       "    </tr>\n",
       "    <tr>\n",
       "      <th>Step</th>\n",
       "      <th>AgentID</th>\n",
       "      <th></th>\n",
       "    </tr>\n",
       "  </thead>\n",
       "  <tbody>\n",
       "    <tr>\n",
       "      <th>0</th>\n",
       "      <th>0</th>\n",
       "      <td>SEARCHING</td>\n",
       "    </tr>\n",
       "    <tr>\n",
       "      <th rowspan=\"2\" valign=\"top\">1</th>\n",
       "      <th>0</th>\n",
       "      <td>SEARCHING</td>\n",
       "    </tr>\n",
       "    <tr>\n",
       "      <th>1</th>\n",
       "      <td>SEARCHING</td>\n",
       "    </tr>\n",
       "    <tr>\n",
       "      <th rowspan=\"2\" valign=\"top\">2</th>\n",
       "      <th>0</th>\n",
       "      <td>SEARCHING</td>\n",
       "    </tr>\n",
       "    <tr>\n",
       "      <th>1</th>\n",
       "      <td>WORKING_OUT</td>\n",
       "    </tr>\n",
       "    <tr>\n",
       "      <th>...</th>\n",
       "      <th>...</th>\n",
       "      <td>...</td>\n",
       "    </tr>\n",
       "    <tr>\n",
       "      <th rowspan=\"5\" valign=\"top\">19</th>\n",
       "      <th>6</th>\n",
       "      <td>SEARCHING</td>\n",
       "    </tr>\n",
       "    <tr>\n",
       "      <th>7</th>\n",
       "      <td>WORKING_OUT</td>\n",
       "    </tr>\n",
       "    <tr>\n",
       "      <th>8</th>\n",
       "      <td>SEARCHING</td>\n",
       "    </tr>\n",
       "    <tr>\n",
       "      <th>9</th>\n",
       "      <td>WORKING_OUT</td>\n",
       "    </tr>\n",
       "    <tr>\n",
       "      <th>10</th>\n",
       "      <td>SEARCHING</td>\n",
       "    </tr>\n",
       "  </tbody>\n",
       "</table>\n",
       "<p>120 rows × 1 columns</p>\n",
       "</div>"
      ],
      "text/plain": [
       "                    State\n",
       "Step AgentID             \n",
       "0    0          SEARCHING\n",
       "1    0          SEARCHING\n",
       "     1          SEARCHING\n",
       "2    0          SEARCHING\n",
       "     1        WORKING_OUT\n",
       "...                   ...\n",
       "19   6          SEARCHING\n",
       "     7        WORKING_OUT\n",
       "     8          SEARCHING\n",
       "     9        WORKING_OUT\n",
       "     10         SEARCHING\n",
       "\n",
       "[120 rows x 1 columns]"
      ]
     },
     "execution_count": 36,
     "metadata": {},
     "output_type": "execute_result"
    }
   ],
   "source": [
    "gym = gym_model.Gym(interarrival_time=2, agent_exercise_duration=3)\n",
    "\n",
    "model_df, agent_df = gym.run(20, progress_bar=True)\n",
    "agent_df"
   ]
  },
  {
   "cell_type": "code",
   "execution_count": 41,
   "metadata": {},
   "outputs": [
    {
     "data": {
      "text/plain": [
       "AgentID\n",
       "0     20\n",
       "1     19\n",
       "2     17\n",
       "3     15\n",
       "4     13\n",
       "5     11\n",
       "6      9\n",
       "7      7\n",
       "8      5\n",
       "9      3\n",
       "10     1\n",
       "dtype: int64"
      ]
     },
     "execution_count": 41,
     "metadata": {},
     "output_type": "execute_result"
    }
   ],
   "source": [
    "agent_total_time = agent_df.groupby(\"AgentID\").size()\n",
    "agent_total_time"
   ]
  },
  {
   "cell_type": "code",
   "execution_count": 11,
   "metadata": {},
   "outputs": [
    {
     "data": {
      "text/plain": [
       "AgentID  State      \n",
       "0        SEARCHING      3\n",
       "         WORKING_OUT    7\n",
       "1        SEARCHING      7\n",
       "         WORKING_OUT    3\n",
       "2        SEARCHING      3\n",
       "         WORKING_OUT    6\n",
       "3        SEARCHING      2\n",
       "         WORKING_OUT    6\n",
       "4        SEARCHING      4\n",
       "         WORKING_OUT    3\n",
       "5        SEARCHING      2\n",
       "         WORKING_OUT    4\n",
       "6        SEARCHING      2\n",
       "         WORKING_OUT    3\n",
       "7        SEARCHING      1\n",
       "         WORKING_OUT    3\n",
       "8        SEARCHING      1\n",
       "         WORKING_OUT    2\n",
       "9        SEARCHING      1\n",
       "         WORKING_OUT    1\n",
       "10       SEARCHING      1\n",
       "dtype: int64"
      ]
     },
     "execution_count": 11,
     "metadata": {},
     "output_type": "execute_result"
    }
   ],
   "source": [
    "agent_state_counter = agent_df.groupby(['AgentID', 'State']).size()#.reset_index(name='Count')\n",
    "agent_state_counter"
   ]
  },
  {
   "cell_type": "code",
   "execution_count": 43,
   "metadata": {},
   "outputs": [
    {
     "data": {
      "text/plain": [
       "AgentID\n",
       "0    12\n",
       "1     9\n",
       "2     8\n",
       "3     8\n",
       "4     9\n",
       "5     6\n",
       "6     6\n",
       "7     5\n",
       "8     3\n",
       "9     2\n",
       "dtype: int64"
      ]
     },
     "execution_count": 43,
     "metadata": {},
     "output_type": "execute_result"
    }
   ],
   "source": [
    "steps_working_out = agent_df[agent_df['State'] == 'WORKING_OUT'].groupby('AgentID').size()\n",
    "steps_working_out\n"
   ]
  },
  {
   "cell_type": "code",
   "execution_count": 46,
   "metadata": {},
   "outputs": [
    {
     "data": {
      "text/plain": [
       "AgentID\n",
       "0     0.600000\n",
       "1     0.473684\n",
       "2     0.470588\n",
       "3     0.533333\n",
       "4     0.692308\n",
       "5     0.545455\n",
       "6     0.666667\n",
       "7     0.714286\n",
       "8     0.600000\n",
       "9     0.666667\n",
       "10    0.000000\n",
       "dtype: float64"
      ]
     },
     "execution_count": 46,
     "metadata": {},
     "output_type": "execute_result"
    }
   ],
   "source": [
    "\n",
    "# Compute the efficiency ratio for each AgentID\n",
    "efficiency_ratio = steps_working_out / agent_total_time\n",
    "efficiency_ratio.fillna(0, inplace=True) # some of them don't even lift (bruh)\n",
    "efficiency_ratio"
   ]
  },
  {
   "cell_type": "code",
   "execution_count": 34,
   "metadata": {},
   "outputs": [
    {
     "data": {
      "text/plain": [
       "10.137483761760341"
      ]
     },
     "execution_count": 34,
     "metadata": {},
     "output_type": "execute_result"
    }
   ],
   "source": [
    "efficiency_ratio.mean()"
   ]
  }
 ],
 "metadata": {
  "kernelspec": {
   "display_name": "Python 3",
   "language": "python",
   "name": "python3"
  },
  "language_info": {
   "codemirror_mode": {
    "name": "ipython",
    "version": 3
   },
   "file_extension": ".py",
   "mimetype": "text/x-python",
   "name": "python",
   "nbconvert_exporter": "python",
   "pygments_lexer": "ipython3",
   "version": "3.11.4"
  }
 },
 "nbformat": 4,
 "nbformat_minor": 2
}
