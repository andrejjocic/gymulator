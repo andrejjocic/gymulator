{
 "cells": [
  {
   "cell_type": "code",
   "execution_count": 1,
   "metadata": {},
   "outputs": [],
   "source": [
    "import importlib\n",
    "import gym_model\n",
    "importlib.reload(gym_model)\n",
    "from visualisation import JupyterVizGym, GymDrawer\n",
    "from optimization import LayoutTemplate\n",
    "import random"
   ]
  },
  {
   "cell_type": "code",
   "execution_count": 10,
   "metadata": {},
   "outputs": [
    {
     "data": {
      "application/vnd.jupyter.widget-view+json": {
       "model_id": "6582c285287c44a4b387e66e27865c13",
       "version_major": 2,
       "version_minor": 0
      },
      "text/html": [
       "Cannot show widget. You probably want to rerun the code cell above (<i>Click in the code cell, and press Shift+Enter <kbd>⇧</kbd>+<kbd>↩</kbd></i>)."
      ],
      "text/plain": [
       "Cannot show ipywidgets in text"
      ]
     },
     "metadata": {},
     "output_type": "display_data"
    }
   ],
   "source": [
    "model_params = {\n",
    "    \"interarrival_time\": {\n",
    "        \"type\": \"SliderInt\",\n",
    "        \"value\": 5,\n",
    "        \"label\": \"time between arrivals:\",\n",
    "        \"min\": 1,\n",
    "        \"max\": 50,\n",
    "        \"step\": 1,\n",
    "    },\n",
    "    \"agent_exercise_duration\": {\n",
    "        \"type\": \"SliderInt\",\n",
    "        \"value\": 30,\n",
    "        \"label\": \"mean exercise duration:\",\n",
    "        \"min\": 1,\n",
    "        \"max\": 3 * 60,\n",
    "        \"step\": 1,\n",
    "    },\n",
    "}\n",
    "\n",
    "RANDOM_LAYOUT = False\n",
    "\n",
    "if RANDOM_LAYOUT:\n",
    "    model_params[\"machine_density\"] ={\n",
    "        \"type\": \"SliderFloat\",\n",
    "        \"value\": 0.25,\n",
    "        \"label\": \"Density of gym equipment:\",\n",
    "        \"min\": 0.05,\n",
    "        \"max\": 1,\n",
    "        \"step\": 0.05,\n",
    "    }\n",
    "else:\n",
    "    template = LayoutTemplate.square_isles(isle_rows=2, isle_cols=3)\n",
    "    model_params[\"layout\"] = template.instantiate([random.choice(list(gym_model.Equipment)) for _ in range(len(template))])\n",
    "    model_params[\"spawn_location\"] = template.entrance\n",
    "\n",
    "\n",
    "page = JupyterVizGym(\n",
    "    gym_model.Gym,\n",
    "    model_params,\n",
    "    measures=[\"Utilization\"],\n",
    "    name=\"Test gym\",\n",
    "    agent_portrayal=lambda agent: agent.portrayal,\n",
    "    # space_drawer=\"default\",\n",
    "    space_drawer=GymDrawer,\n",
    ")\n",
    "\n",
    "page"
   ]
  },
  {
   "cell_type": "code",
   "execution_count": 11,
   "metadata": {},
   "outputs": [
    {
     "name": "stderr",
     "output_type": "stream",
     "text": [
      "Simulating gym: 100%|██████████| 1000/1000 [00:00<00:00, 1443.09it/s, 15 agents]\n"
     ]
    },
    {
     "data": {
      "text/html": [
       "<div>\n",
       "<style scoped>\n",
       "    .dataframe tbody tr th:only-of-type {\n",
       "        vertical-align: middle;\n",
       "    }\n",
       "\n",
       "    .dataframe tbody tr th {\n",
       "        vertical-align: top;\n",
       "    }\n",
       "\n",
       "    .dataframe thead th {\n",
       "        text-align: right;\n",
       "    }\n",
       "</style>\n",
       "<table border=\"1\" class=\"dataframe\">\n",
       "  <thead>\n",
       "    <tr style=\"text-align: right;\">\n",
       "      <th></th>\n",
       "      <th></th>\n",
       "      <th>State</th>\n",
       "    </tr>\n",
       "    <tr>\n",
       "      <th>Step</th>\n",
       "      <th>AgentID</th>\n",
       "      <th></th>\n",
       "    </tr>\n",
       "  </thead>\n",
       "  <tbody>\n",
       "    <tr>\n",
       "      <th>0</th>\n",
       "      <th>0</th>\n",
       "      <td>SEARCHING</td>\n",
       "    </tr>\n",
       "    <tr>\n",
       "      <th>1</th>\n",
       "      <th>0</th>\n",
       "      <td>WORKING_OUT</td>\n",
       "    </tr>\n",
       "    <tr>\n",
       "      <th>2</th>\n",
       "      <th>0</th>\n",
       "      <td>WORKING_OUT</td>\n",
       "    </tr>\n",
       "    <tr>\n",
       "      <th>3</th>\n",
       "      <th>0</th>\n",
       "      <td>WORKING_OUT</td>\n",
       "    </tr>\n",
       "    <tr>\n",
       "      <th>4</th>\n",
       "      <th>0</th>\n",
       "      <td>WORKING_OUT</td>\n",
       "    </tr>\n",
       "    <tr>\n",
       "      <th>...</th>\n",
       "      <th>...</th>\n",
       "      <td>...</td>\n",
       "    </tr>\n",
       "    <tr>\n",
       "      <th rowspan=\"5\" valign=\"top\">999</th>\n",
       "      <th>96</th>\n",
       "      <td>WORKING_OUT</td>\n",
       "    </tr>\n",
       "    <tr>\n",
       "      <th>97</th>\n",
       "      <td>WORKING_OUT</td>\n",
       "    </tr>\n",
       "    <tr>\n",
       "      <th>98</th>\n",
       "      <td>WORKING_OUT</td>\n",
       "    </tr>\n",
       "    <tr>\n",
       "      <th>99</th>\n",
       "      <td>WORKING_OUT</td>\n",
       "    </tr>\n",
       "    <tr>\n",
       "      <th>100</th>\n",
       "      <td>SEARCHING</td>\n",
       "    </tr>\n",
       "  </tbody>\n",
       "</table>\n",
       "<p>13335 rows × 1 columns</p>\n",
       "</div>"
      ],
      "text/plain": [
       "                    State\n",
       "Step AgentID             \n",
       "0    0          SEARCHING\n",
       "1    0        WORKING_OUT\n",
       "2    0        WORKING_OUT\n",
       "3    0        WORKING_OUT\n",
       "4    0        WORKING_OUT\n",
       "...                   ...\n",
       "999  96       WORKING_OUT\n",
       "     97       WORKING_OUT\n",
       "     98       WORKING_OUT\n",
       "     99       WORKING_OUT\n",
       "     100        SEARCHING\n",
       "\n",
       "[13335 rows x 1 columns]"
      ]
     },
     "execution_count": 11,
     "metadata": {},
     "output_type": "execute_result"
    }
   ],
   "source": [
    "gym = gym_model.Gym(interarrival_time=10, agent_exercise_duration=30)\n",
    "\n",
    "model_df, agent_df = gym.run(1000, progress_bar=True)\n",
    "agent_df"
   ]
  }
 ],
 "metadata": {
  "kernelspec": {
   "display_name": "Python 3",
   "language": "python",
   "name": "python3"
  },
  "language_info": {
   "codemirror_mode": {
    "name": "ipython",
    "version": 3
   },
   "file_extension": ".py",
   "mimetype": "text/x-python",
   "name": "python",
   "nbconvert_exporter": "python",
   "pygments_lexer": "ipython3",
   "version": "3.12.0"
  }
 },
 "nbformat": 4,
 "nbformat_minor": 2
}
