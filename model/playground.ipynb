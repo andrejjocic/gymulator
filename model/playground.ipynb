{
 "cells": [
  {
   "cell_type": "code",
   "execution_count": 1,
   "metadata": {},
   "outputs": [],
   "source": [
    "import importlib\n",
    "import gym_model\n",
    "importlib.reload(gym_model)\n",
    "from visualisation import JupyterVizGym, GymDrawer\n",
    "from optimization import LayoutTemplate\n",
    "import random"
   ]
  },
  {
   "cell_type": "code",
   "execution_count": 4,
   "metadata": {},
   "outputs": [
    {
     "data": {
      "application/vnd.jupyter.widget-view+json": {
       "model_id": "b46b0c19a4b3411cb651d332e69e20ab",
       "version_major": 2,
       "version_minor": 0
      },
      "text/html": [
       "Cannot show widget. You probably want to rerun the code cell above (<i>Click in the code cell, and press Shift+Enter <kbd>⇧</kbd>+<kbd>↩</kbd></i>)."
      ],
      "text/plain": [
       "Cannot show ipywidgets in text"
      ]
     },
     "metadata": {},
     "output_type": "display_data"
    }
   ],
   "source": [
    "model_params = {\n",
    "    \"interarrival_time\": {\n",
    "        \"type\": \"SliderInt\",\n",
    "        \"value\": 5,\n",
    "        \"label\": \"time between arrivals:\",\n",
    "        \"min\": 1,\n",
    "        \"max\": 50,\n",
    "        \"step\": 1,\n",
    "    },\n",
    "    \"agent_exercise_duration\": {\n",
    "        \"type\": \"SliderInt\",\n",
    "        \"value\": 30,\n",
    "        \"label\": \"mean exercise duration:\",\n",
    "        \"min\": 1,\n",
    "        \"max\": 3 * 60,\n",
    "        \"step\": 1,\n",
    "    },\n",
    "}\n",
    "\n",
    "RANDOM_LAYOUT = False\n",
    "\n",
    "if RANDOM_LAYOUT:\n",
    "    model_params[\"machine_density\"] ={\n",
    "        \"type\": \"SliderFloat\",\n",
    "        \"value\": 0.25,\n",
    "        \"label\": \"Density of gym equipment:\",\n",
    "        \"min\": 0.05,\n",
    "        \"max\": 1,\n",
    "        \"step\": 0.05,\n",
    "    }\n",
    "else:\n",
    "    template = LayoutTemplate.square_isles(isle_rows=1, isle_cols=2)\n",
    "    model_params[\"layout\"] = template.instantiate([random.choice(list(gym_model.Equipment)) for _ in range(len(template))])\n",
    "    model_params[\"spawn_location\"] = template.entrance\n",
    "\n",
    "\n",
    "page = JupyterVizGym(\n",
    "    gym_model.Gym,\n",
    "    model_params,\n",
    "    measures=[\"Congestion\", \"Efficiency\", \"Utilization\"],\n",
    "    name=\"Test gym\",\n",
    "    agent_portrayal=lambda agent: agent.portrayal,\n",
    "    # space_drawer=\"default\",\n",
    "    space_drawer=GymDrawer,\n",
    ")\n",
    "\n",
    "page"
   ]
  },
  {
   "cell_type": "code",
   "execution_count": 5,
   "metadata": {},
   "outputs": [
    {
     "name": "stderr",
     "output_type": "stream",
     "text": [
      "Simulating gym: 100%|██████████| 1000/1000 [00:01<00:00, 901.50it/s, 123 agents]\n"
     ]
    },
    {
     "data": {
      "text/html": [
       "<div>\n",
       "<style scoped>\n",
       "    .dataframe tbody tr th:only-of-type {\n",
       "        vertical-align: middle;\n",
       "    }\n",
       "\n",
       "    .dataframe tbody tr th {\n",
       "        vertical-align: top;\n",
       "    }\n",
       "\n",
       "    .dataframe thead th {\n",
       "        text-align: right;\n",
       "    }\n",
       "</style>\n",
       "<table border=\"1\" class=\"dataframe\">\n",
       "  <thead>\n",
       "    <tr style=\"text-align: right;\">\n",
       "      <th></th>\n",
       "      <th>Utilization</th>\n",
       "      <th>Congestion</th>\n",
       "    </tr>\n",
       "  </thead>\n",
       "  <tbody>\n",
       "    <tr>\n",
       "      <th>0</th>\n",
       "      <td>0.000000</td>\n",
       "      <td>1</td>\n",
       "    </tr>\n",
       "    <tr>\n",
       "      <th>1</th>\n",
       "      <td>1.000000</td>\n",
       "      <td>1</td>\n",
       "    </tr>\n",
       "    <tr>\n",
       "      <th>2</th>\n",
       "      <td>1.000000</td>\n",
       "      <td>1</td>\n",
       "    </tr>\n",
       "    <tr>\n",
       "      <th>3</th>\n",
       "      <td>1.000000</td>\n",
       "      <td>1</td>\n",
       "    </tr>\n",
       "    <tr>\n",
       "      <th>4</th>\n",
       "      <td>0.500000</td>\n",
       "      <td>1</td>\n",
       "    </tr>\n",
       "    <tr>\n",
       "      <th>...</th>\n",
       "      <td>...</td>\n",
       "      <td>...</td>\n",
       "    </tr>\n",
       "    <tr>\n",
       "      <th>995</th>\n",
       "      <td>0.983871</td>\n",
       "      <td>31</td>\n",
       "    </tr>\n",
       "    <tr>\n",
       "      <th>996</th>\n",
       "      <td>0.975806</td>\n",
       "      <td>31</td>\n",
       "    </tr>\n",
       "    <tr>\n",
       "      <th>997</th>\n",
       "      <td>0.983740</td>\n",
       "      <td>31</td>\n",
       "    </tr>\n",
       "    <tr>\n",
       "      <th>998</th>\n",
       "      <td>0.975410</td>\n",
       "      <td>31</td>\n",
       "    </tr>\n",
       "    <tr>\n",
       "      <th>999</th>\n",
       "      <td>0.975610</td>\n",
       "      <td>31</td>\n",
       "    </tr>\n",
       "  </tbody>\n",
       "</table>\n",
       "<p>1000 rows × 2 columns</p>\n",
       "</div>"
      ],
      "text/plain": [
       "     Utilization  Congestion\n",
       "0       0.000000           1\n",
       "1       1.000000           1\n",
       "2       1.000000           1\n",
       "3       1.000000           1\n",
       "4       0.500000           1\n",
       "..           ...         ...\n",
       "995     0.983871          31\n",
       "996     0.975806          31\n",
       "997     0.983740          31\n",
       "998     0.975410          31\n",
       "999     0.975610          31\n",
       "\n",
       "[1000 rows x 2 columns]"
      ]
     },
     "execution_count": 5,
     "metadata": {},
     "output_type": "execute_result"
    }
   ],
   "source": [
    "gym = gym_model.Gym(interarrival_time=5)\n",
    "\n",
    "df = gym.run(1000, progress_bar=True)\n",
    "df"
   ]
  },
  {
   "cell_type": "code",
   "execution_count": 7,
   "metadata": {},
   "outputs": [
    {
     "data": {
      "text/plain": [
       "Utilization    0.816667\n",
       "Congestion     1.000000\n",
       "dtype: float64"
      ]
     },
     "execution_count": 7,
     "metadata": {},
     "output_type": "execute_result"
    }
   ],
   "source": [
    "df.mean()"
   ]
  },
  {
   "cell_type": "code",
   "execution_count": 8,
   "metadata": {},
   "outputs": [
    {
     "name": "stdout",
     "output_type": "stream",
     "text": [
      "[(0, 0), (0, 1), (0, 2), (0, 3), (0, 4), (0, 5), (1, 0), (1, 5), (2, 0), (2, 2), (2, 3), (2, 5), (3, 0), (3, 2), (3, 3), (3, 5), (4, 5), (5, 0), (5, 2), (5, 3), (5, 5), (6, 0), (6, 2), (6, 3), (6, 5), (7, 0), (7, 5), (8, 0), (8, 1), (8, 2), (8, 3), (8, 4), (8, 5)]\n"
     ]
    },
    {
     "data": {
      "image/png": "[encoded data removed]",
      "text/plain": [
       "<Figure size 640x480 with 1 Axes>"
      ]
     },
     "metadata": {},
     "output_type": "display_data"
    }
   ],
   "source": [
    "%matplotlib inline\n",
    "import numpy as np\n",
    "import matplotlib.pyplot as plt\n",
    "from gym_agent import Muscle\n",
    "from visualisation import draw_layout\n",
    "\n",
    "tpl = LayoutTemplate.square_isles(isle_rows=1, isle_cols=2)\n",
    "layout = tpl.instantiate([random.choice(list(gym_model.Equipment)) for _ in range(len(tpl))])\n",
    "# print(list(zip(*np.where(layout != None))))\n",
    "draw_layout(layout)\n",
    "plt.show()\n"
   ]
  }
 ],
 "metadata": {
  "kernelspec": {
   "display_name": "Python 3",
   "language": "python",
   "name": "python3"
  },
  "language_info": {
   "codemirror_mode": {
    "name": "ipython",
    "version": 3
   },
   "file_extension": ".py",
   "mimetype": "text/x-python",
   "name": "python",
   "nbconvert_exporter": "python",
   "pygments_lexer": "ipython3",
   "version": "3.12.0"
  }
 },
 "nbformat": 4,
 "nbformat_minor": 2
}
